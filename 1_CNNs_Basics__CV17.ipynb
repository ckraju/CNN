{
  "nbformat": 4,
  "nbformat_minor": 0,
  "metadata": {
    "kernelspec": {
      "name": "python3",
      "display_name": "Python 3"
    },
    "colab": {
      "name": "1_CNNs_Basics _CV17.ipynb",
      "provenance": [],
      "include_colab_link": true
    },
    "language_info": {
      "name": "python"
    },
    "accelerator": "GPU"
  },
  "cells": [
    {
      "cell_type": "markdown",
      "metadata": {
        "id": "view-in-github",
        "colab_type": "text"
      },
      "source": [
        "<a href=\"https://colab.research.google.com/github/ckraju/summer/blob/main/1_CNNs_Basics__CV17.ipynb\" target=\"_parent\"><img src=\"https://colab.research.google.com/assets/colab-badge.svg\" alt=\"Open In Colab\"/></a>"
      ]
    },
    {
      "cell_type": "markdown",
      "metadata": {
        "id": "hKcw3bNmJnws"
      },
      "source": [
        "## Training CNN on CIFAR10 Dataset [1]\n",
        "\n",
        "We begin with building a CNN architecture for image classification task on CIFAR10 dataset. In this first part of the tutorial, we will understand how to arrange the different architectural components of CNN network, defining the appropriate loss, training the network using backpropagation and finally testing it on the test data.\n",
        "\n",
        "To make data loading simple, we would use the torchvision package created as part of PyTorch which has data loaders for standard datasets such as ImageNet, CIFAR10, MNIST.\n",
        "\n",
        "### CIFAR10 dataset\n",
        "![CIFAR10](https://raw.githubusercontent.com/ckraju/summer/main/data/cnn-basics/cifar10.png)"
      ]
    },
    {
      "cell_type": "markdown",
      "metadata": {
        "id": "4LkwX_yLJnww"
      },
      "source": [
        "### Required Packages"
      ]
    },
    {
      "cell_type": "code",
      "metadata": {
        "id": "qw_iRUBNJnwx"
      },
      "source": [
        "#a Tensor library with GPU support\n",
        "import torch\n",
        "\n",
        "#Datasets, Transforms and Models specific to Computer Vision\n",
        "import torchvision\n",
        "import torchvision.transforms as transforms\n",
        "\n",
        "#differentiation library that supports all differentiable Tensor operations in torch\n",
        "from torch.autograd import Variable\n",
        "\n",
        "#a neural networks library integrated with autograd functionality\n",
        "import torch.nn as nn\n",
        "import torch.nn.functional as F\n",
        "\n",
        "#an optimization package with standard optimization methods such as SGD, RMSProp, LBFGS, Adam etc.\n",
        "import torch.optim as optim\n",
        "\n",
        "#scientific computing library for Python\n",
        "import numpy as np\n",
        "\n",
        "import os\n",
        "\n",
        "#plotting and visualization library\n",
        "import matplotlib.pyplot as plt\n",
        "#Display on the notebook\n",
        "%matplotlib inline \n",
        "plt.ion() #Turn interactive mode on."
      ],
      "execution_count": null,
      "outputs": []
    },
    {
      "cell_type": "markdown",
      "metadata": {
        "id": "zihLJpa5yHw1"
      },
      "source": [
        "# Please be careful here and follow the instructions:\n",
        "You will get a link. Please click on the link and log in to google.\n",
        "Allow permission.\n",
        "Then you will get a code which you have to paste here"
      ]
    },
    {
      "cell_type": "code",
      "metadata": {
        "colab": {
          "base_uri": "https://localhost:8080/"
        },
        "id": "iuudB9vsJph5",
        "outputId": "2e383577-df5a-4285-977e-a88cea024f40"
      },
      "source": [
        "from google.colab import drive\n",
        "drive.mount('/content/drive/')"
      ],
      "execution_count": null,
      "outputs": [
        {
          "output_type": "stream",
          "text": [
            "Mounted at /content/drive/\n"
          ],
          "name": "stdout"
        }
      ]
    },
    {
      "cell_type": "code",
      "metadata": {
        "id": "m54ctMINLdKX"
      },
      "source": [
        "rootfolder = '/content/drive/MyDrive/CVSummerSchool2021/CNN'"
      ],
      "execution_count": null,
      "outputs": []
    },
    {
      "cell_type": "markdown",
      "metadata": {
        "id": "eOnZ_2k-Jnwy"
      },
      "source": [
        "### Dataloader and Transformers"
      ]
    },
    {
      "cell_type": "code",
      "metadata": {
        "collapsed": true,
        "colab": {
          "base_uri": "https://localhost:8080/"
        },
        "id": "q5E-t1nyJnwz",
        "outputId": "3392efd3-2aaa-4fa7-8247-7e1b1eecec10"
      },
      "source": [
        "####train data\n",
        "#Compose transforms (applies data transformation and augmentation) prior to feeding to training\n",
        "transform = transforms.Compose(\n",
        "    [transforms.ToTensor(),\n",
        "     transforms.Normalize((0.5, 0.5, 0.5), (0.5, 0.5, 0.5))])\n",
        "\n",
        "#inbuilt dataset class for reading CIFAR10 dataset\n",
        "trainset = torchvision.datasets.CIFAR10(root=os.path.join(rootfolder, 'imgFolders'), train=True,\n",
        "                                        download=True, transform=transform)\n",
        "\n",
        "#dataloader for Batching, shuffling and loading data in parallel\n",
        "trainloader = torch.utils.data.DataLoader(trainset, batch_size=4,\n",
        "                                          shuffle=True, num_workers=2)\n",
        "\n",
        "####test data\n",
        "testset = torchvision.datasets.CIFAR10(root=os.path.join(rootfolder, 'imgFolders'), train=False,\n",
        "                                       download=False, transform=transform)\n",
        "testloader = torch.utils.data.DataLoader(testset, batch_size=4,\n",
        "                                         shuffle=False, num_workers=2)\n",
        "\n",
        "classes = ('plane', 'car', 'bird', 'cat',\n",
        "           'deer', 'dog', 'frog', 'horse', 'ship', 'truck')"
      ],
      "execution_count": null,
      "outputs": [
        {
          "output_type": "stream",
          "text": [
            "Files already downloaded and verified\n"
          ],
          "name": "stdout"
        }
      ]
    },
    {
      "cell_type": "markdown",
      "metadata": {
        "id": "AJIbPCTJJnw0"
      },
      "source": [
        "#### Visualizing the dataset images"
      ]
    },
    {
      "cell_type": "code",
      "metadata": {
        "colab": {
          "base_uri": "https://localhost:8080/",
          "height": 156
        },
        "id": "wifiT_scJnw1",
        "outputId": "a1b1aa79-66d9-48a5-8f7f-bf796e1371d7"
      },
      "source": [
        "def imshow(img):\n",
        "    img = img / 2 + 0.5     # unnormalize\n",
        "    npimg = img.numpy()\n",
        "    plt.imshow(np.transpose(npimg, (1, 2, 0)))\n",
        "    \n",
        "dataiter = iter(testloader)\n",
        "images, labels = dataiter.next()\n",
        "\n",
        "# print images\n",
        "imshow(torchvision.utils.make_grid(images))\n",
        "print('GroundTruth: ', ' '.join('%5s' % classes[labels[j]] for j in range(4)))"
      ],
      "execution_count": null,
      "outputs": [
        {
          "output_type": "stream",
          "text": [
            "GroundTruth:    cat  ship  ship plane\n"
          ],
          "name": "stdout"
        },
        {
          "output_type": "display_data",
          "data": {
            "image/png": "[encoded data removed]",
            "text/plain": [
              "<Figure size 432x288 with 1 Axes>"
            ]
          },
          "metadata": {
            "tags": [],
            "needs_background": "light"
          }
        }
      ]
    },
    {
      "cell_type": "markdown",
      "metadata": {
        "id": "aNdagfY5Jnw4"
      },
      "source": [
        "### Defining the CNN architecture\n",
        "![cnn-arch](https://raw.githubusercontent.com/ckraju/summer/main/data/cnn-basics/cnn-arch.png)\n",
        "#### Basic Convolutional Layer\n",
        "![conv](https://raw.githubusercontent.com/ckraju/summer/main/data/cnn-basics/conv-all.png)"
      ]
    },
    {
      "cell_type": "markdown",
      "metadata": {
        "id": "qIIXBMDlJnw5"
      },
      "source": [
        "To create a network, we should first inhert the base class nn.Module. You just have to define the forward function, and the backward function (where gradients are computed) is automatically defined for you using autograd. You can use any of the Tensor operations in the forward function."
      ]
    },
    {
      "cell_type": "code",
      "metadata": {
        "colab": {
          "base_uri": "https://localhost:8080/"
        },
        "id": "HMHXc0BuJnw6",
        "outputId": "981795b2-f685-4a2f-b5b6-da809ed1afb6"
      },
      "source": [
        "class Net(nn.Module):\n",
        "    \n",
        "    #define the learnable paramters by calling the respective modules (nn.Conv2d, nn.MaxPool2d etc.)\n",
        "    def __init__(self):\n",
        "        super(Net, self).__init__()\n",
        "        \n",
        "        #calling conv2d module for convolution\n",
        "        self.conv1 = nn.Conv2d(in_channels=3, out_channels=6, kernel_size=5,stride=1,padding=0,bias=True)\n",
        "        \n",
        "        #calling MaxPool2d module for max pooling with downsampling of 2\n",
        "        self.pool = nn.MaxPool2d(kernel_size=2, stride=2)\n",
        "        \n",
        "        self.conv2 = nn.Conv2d(6, 16, 5)\n",
        "        \n",
        "        #fully connected layers\n",
        "        self.fc1 = nn.Linear(16 * 5 * 5, 120)\n",
        "        self.fc2 = nn.Linear(120, 84)\n",
        "        self.fc3 = nn.Linear(84, 10)\n",
        "    \n",
        "    #defining the structure of the network\n",
        "    def forward(self, x):\n",
        "        \n",
        "        #Applying relu activation after each conv layer\n",
        "        x = self.pool(F.relu(self.conv1(x)))\n",
        "        x = self.pool(F.relu(self.conv2(x)))\n",
        "        \n",
        "        #reshaping to 1d for giving input to fully connected units\n",
        "        x = x.view(-1, 16 * 5 * 5)\n",
        "        x = F.relu(self.fc1(x))\n",
        "        x = F.relu(self.fc2(x))\n",
        "        x = self.fc3(x)\n",
        "        return x\n",
        "\n",
        "net = Net()\n",
        "\n",
        "#Printing the network architecture\n",
        "print(net)\n"
      ],
      "execution_count": null,
      "outputs": [
        {
          "output_type": "stream",
          "text": [
            "Net(\n",
            "  (conv1): Conv2d(3, 6, kernel_size=(5, 5), stride=(1, 1))\n",
            "  (pool): MaxPool2d(kernel_size=2, stride=2, padding=0, dilation=1, ceil_mode=False)\n",
            "  (conv2): Conv2d(6, 16, kernel_size=(5, 5), stride=(1, 1))\n",
            "  (fc1): Linear(in_features=400, out_features=120, bias=True)\n",
            "  (fc2): Linear(in_features=120, out_features=84, bias=True)\n",
            "  (fc3): Linear(in_features=84, out_features=10, bias=True)\n",
            ")\n"
          ],
          "name": "stdout"
        }
      ]
    },
    {
      "cell_type": "code",
      "metadata": {
        "colab": {
          "base_uri": "https://localhost:8080/"
        },
        "id": "dciWjVsJJnw6",
        "outputId": "e05ec80c-c803-4e6a-f77b-bb0971b11b67"
      },
      "source": [
        "#Printing the parameter values\n",
        "params = list(net.parameters())\n",
        "print(params[0].size())  # conv1's .weight"
      ],
      "execution_count": null,
      "outputs": [
        {
          "output_type": "stream",
          "text": [
            "torch.Size([6, 3, 5, 5])\n"
          ],
          "name": "stdout"
        }
      ]
    },
    {
      "cell_type": "markdown",
      "metadata": {
        "id": "bbrbq7mpJnw7"
      },
      "source": [
        "#### Forward Pass"
      ]
    },
    {
      "cell_type": "code",
      "metadata": {
        "colab": {
          "base_uri": "https://localhost:8080/"
        },
        "id": "NWwV4iZhJnw7",
        "outputId": "4c41302d-4788-46c2-a3b5-7b5c3cfe8fc1"
      },
      "source": [
        "input = Variable(torch.randn(1, 3, 32, 32))\n",
        "out = net(input)\n",
        "print(out)"
      ],
      "execution_count": null,
      "outputs": [
        {
          "output_type": "stream",
          "text": [
            "tensor([[ 0.0740, -0.0771, -0.0042, -0.0186, -0.0066, -0.0856, -0.0869,  0.0677,\n",
            "         -0.0696,  0.1329]], grad_fn=<AddmmBackward>)\n"
          ],
          "name": "stdout"
        },
        {
          "output_type": "stream",
          "text": [
            "/usr/local/lib/python3.7/dist-packages/torch/nn/functional.py:718: UserWarning: Named tensors and all their associated APIs are an experimental feature and subject to change. Please do not use them for anything important until they are released as stable. (Triggered internally at  /pytorch/c10/core/TensorImpl.h:1156.)\n",
            "  return torch.max_pool2d(input, kernel_size, stride, padding, dilation, ceil_mode)\n"
          ],
          "name": "stderr"
        }
      ]
    },
    {
      "cell_type": "markdown",
      "metadata": {
        "id": "afKAHYK8Jnw8"
      },
      "source": [
        "#### Backward Pass"
      ]
    },
    {
      "cell_type": "code",
      "metadata": {
        "collapsed": true,
        "id": "eemfnrwtJnw9"
      },
      "source": [
        "net.zero_grad()\n",
        "out.backward(torch.randn(1, 10))"
      ],
      "execution_count": null,
      "outputs": []
    },
    {
      "cell_type": "markdown",
      "metadata": {
        "id": "O43ISrlPJnw9"
      },
      "source": [
        "#### Loss Function\n",
        "In this example, we will use Classification Cross-Entropy loss and SGD with momentum.<br>\n",
        "Cross Entropy loss is given as:- $L=-\\sum_i y_i \\log(p_i)$ and $p_i=\\frac{\\exp^{x_i}}{\\sum_k \\exp^{x_k}}$\n",
        "\n",
        "There are many other loss functions such as MSELoss, L1Loss etc. Visit [here](http://pytorch.org/docs/master/nn.html#loss-functions) for other loss functions.\n",
        "\n",
        "#### Stochastic Gradient Descent (SGD)\n",
        "$$w_{n+1} = w_{n} - \\eta \\triangle$$\n",
        "$$\\triangle = 0.9\\triangle + \\frac{\\partial L}{\\partial w}$$\n",
        "\n",
        "Although SGD is the most popular and basic optimizer that one should first try. There are many adaptive optimizers like Adagrad,Adadelta RMSProp and many more. Visit [here](http://pytorch.org/docs/master/optim.html) for other examples."
      ]
    },
    {
      "cell_type": "code",
      "metadata": {
        "collapsed": true,
        "id": "nJ7yhenMJnw9"
      },
      "source": [
        "criterion = nn.CrossEntropyLoss()\n",
        "optimizer = optim.SGD(net.parameters(), lr=0.001, momentum=0.9)"
      ],
      "execution_count": null,
      "outputs": []
    },
    {
      "cell_type": "markdown",
      "metadata": {
        "id": "j6xhQsEwJnw9"
      },
      "source": [
        "#### Training in mini-batches"
      ]
    },
    {
      "cell_type": "code",
      "metadata": {
        "colab": {
          "base_uri": "https://localhost:8080/",
          "height": 402
        },
        "id": "WRcyOGsYJnw9",
        "outputId": "7d4663f4-98ad-4850-956f-1b39923ea122"
      },
      "source": [
        "plotIter = 2000\n",
        "plotIterCntr = 0\n",
        "numEpochs = 1\n",
        "trainLoss = np.zeros((plotIter*numEpochs,1))\n",
        "trainIter = np.arange(plotIter*numEpochs)\n",
        "\n",
        "#Transferring the model to GPU\n",
        "net.cuda()\n",
        "\n",
        "for epoch in range(numEpochs):  # loop over the dataset multiple times\n",
        "\n",
        "    running_loss = 0.0\n",
        "    for i, data in enumerate(trainloader, 0):\n",
        "        # get the inputs\n",
        "        inputs, labels = data\n",
        "\n",
        "        # wrap them in Variable\n",
        "        inputs, labels = Variable(inputs.cuda()), Variable(labels.cuda())\n",
        "\n",
        "        # zero the parameter gradients\n",
        "        optimizer.zero_grad()\n",
        "\n",
        "        # forward + backward + optimize\n",
        "        outputs = net(inputs)\n",
        "        loss = criterion(outputs, labels)\n",
        "        loss.backward()\n",
        "        optimizer.step()\n",
        "\n",
        "        # print statistics\n",
        "        running_loss += loss.item()\n",
        "        if i % plotIter == plotIter-1:    # print every plotIter mini-batches\n",
        "            trainLoss[plotIterCntr] = running_loss / plotIter\n",
        "            plotIterCntr+=1\n",
        "            \n",
        "            print('[%d, %5d] loss: %.3f' %\n",
        "                  (epoch + 1, i + 1, running_loss / plotIter))\n",
        "            running_loss = 0.0\n",
        " \n",
        "#Plotting the training graph\n",
        "plt.plot(np.arange(plotIterCntr)*plotIter,trainLoss[0:plotIterCntr], label=\"train\")\n",
        "plt.xlabel('Iteration')\n",
        "plt.ylabel('Loss')\n",
        "plt.show()\n",
        "\n",
        "print('Finished Training')"
      ],
      "execution_count": null,
      "outputs": [
        {
          "output_type": "stream",
          "text": [
            "[1,  2000] loss: 2.233\n",
            "[1,  4000] loss: 1.953\n",
            "[1,  6000] loss: 1.727\n",
            "[1,  8000] loss: 1.571\n",
            "[1, 10000] loss: 1.533\n",
            "[1, 12000] loss: 1.455\n"
          ],
          "name": "stdout"
        },
        {
          "output_type": "display_data",
          "data": {
            "image/png": "[encoded data removed]",
            "text/plain": [
              "<Figure size 432x288 with 1 Axes>"
            ]
          },
          "metadata": {
            "tags": [],
            "needs_background": "light"
          }
        },
        {
          "output_type": "stream",
          "text": [
            "Finished Training\n"
          ],
          "name": "stdout"
        }
      ]
    },
    {
      "cell_type": "markdown",
      "metadata": {
        "collapsed": true,
        "id": "WrON9pzQJnw-"
      },
      "source": [
        "#### Forward Pass over the trained network"
      ]
    },
    {
      "cell_type": "code",
      "metadata": {
        "colab": {
          "base_uri": "https://localhost:8080/"
        },
        "id": "ZrQGF4YeJnw-",
        "outputId": "0ca811e2-86d8-4138-95e7-b7886483f2b8"
      },
      "source": [
        "outputs = net(Variable(images).cuda())\n",
        "_, predicted = torch.max(outputs, 1)\n",
        "\n",
        "# print('Predicted: ', ' '.join('%5s' % classes[predicted[j] for j in range(4)]))\n",
        "print('Predicted: ')\n",
        "for i in range(4):\n",
        "  print(classes[predicted[i]])\n"
      ],
      "execution_count": null,
      "outputs": [
        {
          "output_type": "stream",
          "text": [
            "Predicted: \n",
            "cat\n",
            "car\n",
            "car\n",
            "plane\n"
          ],
          "name": "stdout"
        }
      ]
    },
    {
      "cell_type": "markdown",
      "metadata": {
        "id": "BXbq_d1tJnw_"
      },
      "source": [
        "#### Test Accuracy "
      ]
    },
    {
      "cell_type": "code",
      "metadata": {
        "colab": {
          "base_uri": "https://localhost:8080/"
        },
        "id": "94qHAWkHJnw_",
        "outputId": "7828632c-cd86-41d0-a26f-1ef774b1f6e4"
      },
      "source": [
        "## Prediction of accuracy\n",
        "correct = 0\n",
        "total = 0\n",
        "\n",
        "#Iterating over the batches returned from testloader\n",
        "for data in testloader:\n",
        "    images, labels = data\n",
        "    outputs = net(Variable(images.cuda()))\n",
        "    _, predicted = torch.max(outputs.data, 1)\n",
        "    total += labels.size(0)\n",
        "    labels = labels.cuda()\n",
        "    correct += (predicted == labels).sum()\n",
        "\n",
        "print('Accuracy of the network on the 10000 test images: %d %%' % (\n",
        "    100 * correct / total))\n"
      ],
      "execution_count": null,
      "outputs": [
        {
          "output_type": "stream",
          "text": [
            "Accuracy of the network on the 10000 test images: 47 %\n"
          ],
          "name": "stdout"
        }
      ]
    },
    {
      "cell_type": "markdown",
      "metadata": {
        "id": "7oPdhJupJnxA"
      },
      "source": [
        "#### Hyperparameters -- Learning Rate\n",
        "![lR](https://raw.githubusercontent.com/ckraju/summer/main/data/cnn-basics/learning-rate.png)\n",
        "Typically learning rates are set using step decay, exponential/log space decay and manually."
      ]
    },
    {
      "cell_type": "markdown",
      "metadata": {
        "id": "Mzu4giXLJnxA"
      },
      "source": [
        "##### Self Exercise -1\n",
        "- Manipulate the learning rates in range of 10-0.0001, momentum from (0.5,0.9) and understand how the training proceeds.\n",
        "- Check the performance by changing:-\n",
        "    - Add two more conv layers and check the training performance.\n",
        "    - Optimizer to Adagrad and check the performance.\n",
        "    - Modify the loss function to MSELoss."
      ]
    },
    {
      "cell_type": "markdown",
      "metadata": {
        "id": "QjPMXqJ5JnxA"
      },
      "source": [
        "### Visualization of Layers\n",
        "To undestand what is being learnt in the filters, we now visualize the weights. Here we restrict ourselves to conv1 layer which contains 3d filters and can be visualized in the image space itself. For visualizing layers other that first one, read [3] and the follow up papers taught in class."
      ]
    },
    {
      "cell_type": "code",
      "metadata": {
        "colab": {
          "base_uri": "https://localhost:8080/",
          "height": 82
        },
        "id": "u1KKwAqsJnxA",
        "outputId": "fbe17713-1850-4d49-aa1c-212d8556bab3"
      },
      "source": [
        "#### Visualization of Layer 1 weights\n",
        "def plot_kernels(tensor, num_cols=6):\n",
        "    if not tensor.ndim==4:\n",
        "        raise Exception(\"assumes a 4D tensor\")\n",
        "    if not tensor.shape[-1]==3:\n",
        "        raise Exception(\"last dim needs to be 3 to plot\")\n",
        "    num_kernels = tensor.shape[0]\n",
        "    num_rows = 1+ num_kernels // num_cols\n",
        "    fig = plt.figure(figsize=(num_cols,num_rows))\n",
        "    for i in range(tensor.shape[0]):\n",
        "        ax1 = fig.add_subplot(num_rows,num_cols,i+1)\n",
        "        ax1.imshow(tensor[i])\n",
        "        ax1.axis('off')\n",
        "        ax1.set_xticklabels([])\n",
        "        ax1.set_yticklabels([])\n",
        "\n",
        "    plt.subplots_adjust(wspace=0.1, hspace=0.1)\n",
        "    plt.show()\n",
        "    \n",
        "net_cpu = net.cpu()\n",
        "\n",
        "#Reading the conv1 weights\n",
        "dat = net_cpu.conv1.weight.data.numpy()\n",
        "\n",
        "#Normalizing the weights from (0,1)\n",
        "maxVal = dat.max()\n",
        "minVal = abs(dat.min())\n",
        "maxVal = max(maxVal,minVal)\n",
        "dat = dat / maxVal\n",
        "dat = dat / 2\n",
        "dat = dat + 0.5\n",
        "\n",
        "#calling visualization function\n",
        "plot_kernels(dat.transpose((0,2,3,1)))"
      ],
      "execution_count": null,
      "outputs": [
        {
          "output_type": "display_data",
          "data": {
            "image/png": "[encoded data removed]",
            "text/plain": [
              "<Figure size 432x144 with 6 Axes>"
            ]
          },
          "metadata": {
            "tags": [],
            "needs_background": "light"
          }
        }
      ]
    },
    {
      "cell_type": "markdown",
      "metadata": {
        "id": "ULSFbOTUJnxB"
      },
      "source": [
        "#### Generalization using Dropouts\n",
        "Dropouts perform a stochastic regularization by dropping out hidden units randomly with fixed probability $p$ while training and while testing the all units are preserved but scaled with $p$.\n",
        "![dropouts](https://raw.githubusercontent.com/ckraju/summer/main/data/cnn-basics/dropout.png)\n",
        "\n",
        "#### Batch Normalization \n",
        "Normalize the output feature maps across samples in a mini-batch. "
      ]
    },
    {
      "cell_type": "code",
      "metadata": {
        "collapsed": true,
        "id": "Ja1v7DYwJnxB"
      },
      "source": [
        "class Net_DB(nn.Module):\n",
        "    def __init__(self):\n",
        "        super(Net_DB, self).__init__()\n",
        "        self.conv1 = nn.Conv2d(3, 6, 5)\n",
        "        \n",
        "        #applying batch normalization\n",
        "        self.conv1_bn = nn.BatchNorm2d(num_features=6)\n",
        "        self.pool = nn.MaxPool2d(2, 2)\n",
        "        self.conv2 = nn.Conv2d(6, 16, 5)\n",
        "        self.fc1 = nn.Linear(16 * 5 * 5, 120)\n",
        "        self.fc2 = nn.Linear(120, 84)\n",
        "        self.fc3 = nn.Linear(84, 10)\n",
        "        \n",
        "        #Flag to apply droputs only at training\n",
        "        self.is_training = False\n",
        "\n",
        "    def forward(self, x):\n",
        "        x = F.relu(self.conv1(x))\n",
        "        x = self.pool(self.conv1_bn(x))\n",
        "        x = self.pool(F.relu(self.conv2(x)))\n",
        "        x = x.view(-1, 16 * 5 * 5)\n",
        "        x = F.relu(self.fc1(x))\n",
        "        \n",
        "        #Applying dropouts\n",
        "        x = F.dropout(x, p=0.2, training=self.is_training)\n",
        "        x = F.relu(self.fc2(x))\n",
        "        x = self.fc3(x)\n",
        "        return x\n",
        "\n",
        "net_db = Net_DB()"
      ],
      "execution_count": null,
      "outputs": []
    },
    {
      "cell_type": "code",
      "metadata": {
        "colab": {
          "base_uri": "https://localhost:8080/",
          "height": 402
        },
        "id": "eVEmyAujJnxB",
        "outputId": "c0feddec-95f4-45d0-a50b-3821529f2b88"
      },
      "source": [
        "criterion = nn.CrossEntropyLoss()\n",
        "optimizer = optim.SGD(net_db.parameters(), lr=0.001, momentum=0.9)\n",
        "\n",
        "plotIter = 2000\n",
        "plotIterCntr = 0\n",
        "numEpochs = 1\n",
        "trainLoss = np.zeros((plotIter*numEpochs,1))\n",
        "trainIter = np.arange(plotIter*numEpochs)\n",
        "\n",
        "net_db.cuda()\n",
        "net_db.is_training = True\n",
        "\n",
        "for epoch in range(numEpochs):  # loop over the dataset multiple times\n",
        "\n",
        "    running_loss = 0.0\n",
        "    for i, data in enumerate(trainloader, 0):\n",
        "        # get the inputs\n",
        "        inputs, labels = data\n",
        "\n",
        "        # wrap them in Variable\n",
        "        inputs, labels = Variable(inputs.cuda()), Variable(labels.cuda())\n",
        "\n",
        "        # zero the parameter gradients\n",
        "        optimizer.zero_grad()\n",
        "\n",
        "        # forward + backward + optimize\n",
        "        outputs = net_db(inputs)\n",
        "        loss = criterion(outputs, labels)\n",
        "        loss.backward()\n",
        "        optimizer.step()\n",
        "\n",
        "        # print statistics\n",
        "        running_loss += loss.item()\n",
        "        if i % plotIter == plotIter-1:    # print every plotIter mini-batches\n",
        "            trainLoss[plotIterCntr] = running_loss / plotIter\n",
        "            plotIterCntr+=1\n",
        "            \n",
        "            print('[%d, %5d] loss: %.3f' %\n",
        "                  (epoch + 1, i + 1, running_loss / plotIter))\n",
        "            running_loss = 0.0\n",
        "            \n",
        "plt.plot(np.arange(plotIterCntr)*plotIter,trainLoss[0:plotIterCntr], label=\"train\")\n",
        "plt.xlabel('Iteration')\n",
        "plt.ylabel('Loss')\n",
        "plt.show()\n",
        "\n",
        "print('Finished Training with droputs and batch normalization')\n",
        "\n"
      ],
      "execution_count": null,
      "outputs": [
        {
          "output_type": "stream",
          "text": [
            "[1,  2000] loss: 2.020\n",
            "[1,  4000] loss: 1.741\n",
            "[1,  6000] loss: 1.618\n",
            "[1,  8000] loss: 1.535\n",
            "[1, 10000] loss: 1.499\n",
            "[1, 12000] loss: 1.478\n"
          ],
          "name": "stdout"
        },
        {
          "output_type": "display_data",
          "data": {
            "image/png": "[encoded data removed]",
            "text/plain": [
              "<Figure size 432x288 with 1 Axes>"
            ]
          },
          "metadata": {
            "tags": [],
            "needs_background": "light"
          }
        },
        {
          "output_type": "stream",
          "text": [
            "Finished Training with droputs and batch normalization\n"
          ],
          "name": "stdout"
        }
      ]
    },
    {
      "cell_type": "code",
      "metadata": {
        "colab": {
          "base_uri": "https://localhost:8080/"
        },
        "id": "fe7x_917JnxC",
        "outputId": "89015712-9670-45bb-df91-b720dc8478ae"
      },
      "source": [
        "net_db.is_training = False\n",
        "\n",
        "## Prediction of accuracy\n",
        "correct = 0\n",
        "total = 0\n",
        "\n",
        "for data in testloader:\n",
        "    images, labels = data\n",
        "    outputs = net_db(Variable(images.cuda()))\n",
        "    _, predicted = torch.max(outputs.data, 1)\n",
        "    total += labels.size(0)\n",
        "    labels = labels.cuda()\n",
        "    correct += (predicted == labels).sum()\n",
        "\n",
        "print('Accuracy of the network on the 10000 test images: %d %%' % (\n",
        "    100 * correct / total))"
      ],
      "execution_count": null,
      "outputs": [
        {
          "output_type": "stream",
          "text": [
            "Accuracy of the network on the 10000 test images: 49 %\n"
          ],
          "name": "stdout"
        }
      ]
    },
    {
      "cell_type": "markdown",
      "metadata": {
        "id": "6xfmTKubJnxD"
      },
      "source": [
        "### References\n",
        "[1] Soumith Chintala, [Deep Learning with PyTorch: A 60 Minute Blitz](http://pytorch.org/tutorials/beginner/deep_learning_60min_blitz.html)<br>\n",
        "[2] [PyTorch documentation](http://pytorch.org/docs/)<br>\n",
        "[3] Zeiler and Fergus , Visualizing and Understanding Convolutional Networks, ECCV 2014<br>"
      ]
    }
  ]
}