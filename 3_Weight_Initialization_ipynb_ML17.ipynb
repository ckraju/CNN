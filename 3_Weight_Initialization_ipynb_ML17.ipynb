{
  "nbformat": 4,
  "nbformat_minor": 0,
  "metadata": {
    "kernelspec": {
      "display_name": "Python 3",
      "language": "python",
      "name": "python3"
    },
    "language_info": {
      "codemirror_mode": {
        "name": "ipython",
        "version": 3
      },
      "file_extension": ".py",
      "mimetype": "text/x-python",
      "name": "python",
      "nbconvert_exporter": "python",
      "pygments_lexer": "ipython3",
      "version": "3.6.1"
    },
    "colab": {
      "name": "3_Weight_Initialization.ipynb_ML17.ipynb",
      "provenance": [],
      "include_colab_link": true
    },
    "accelerator": "GPU",
    "widgets": {
      "application/vnd.jupyter.widget-state+json": {
        "9866521573f04f4087b082a9fe006998": {
          "model_module": "@jupyter-widgets/controls",
          "model_name": "HBoxModel",
          "state": {
            "_view_name": "HBoxView",
            "_dom_classes": [],
            "_model_name": "HBoxModel",
            "_view_module": "@jupyter-widgets/controls",
            "_model_module_version": "1.5.0",
            "_view_count": null,
            "_view_module_version": "1.5.0",
            "box_style": "",
            "layout": "IPY_MODEL_3dc56cdd51544a928c8843322a9a5519",
            "_model_module": "@jupyter-widgets/controls",
            "children": [
              "IPY_MODEL_27905df77d494aac91bc38ca9bee5903",
              "IPY_MODEL_980dc071ce414640900b42dee8d16364"
            ]
          }
        },
        "3dc56cdd51544a928c8843322a9a5519": {
          "model_module": "@jupyter-widgets/base",
          "model_name": "LayoutModel",
          "state": {
            "_view_name": "LayoutView",
            "grid_template_rows": null,
            "right": null,
            "justify_content": null,
            "_view_module": "@jupyter-widgets/base",
            "overflow": null,
            "_model_module_version": "1.2.0",
            "_view_count": null,
            "flex_flow": null,
            "width": null,
            "min_width": null,
            "border": null,
            "align_items": null,
            "bottom": null,
            "_model_module": "@jupyter-widgets/base",
            "top": null,
            "grid_column": null,
            "overflow_y": null,
            "overflow_x": null,
            "grid_auto_flow": null,
            "grid_area": null,
            "grid_template_columns": null,
            "flex": null,
            "_model_name": "LayoutModel",
            "justify_items": null,
            "grid_row": null,
            "max_height": null,
            "align_content": null,
            "visibility": null,
            "align_self": null,
            "height": null,
            "min_height": null,
            "padding": null,
            "grid_auto_rows": null,
            "grid_gap": null,
            "max_width": null,
            "order": null,
            "_view_module_version": "1.2.0",
            "grid_template_areas": null,
            "object_position": null,
            "object_fit": null,
            "grid_auto_columns": null,
            "margin": null,
            "display": null,
            "left": null
          }
        },
        "27905df77d494aac91bc38ca9bee5903": {
          "model_module": "@jupyter-widgets/controls",
          "model_name": "FloatProgressModel",
          "state": {
            "_view_name": "ProgressView",
            "style": "IPY_MODEL_c193dd5c18644a93930bda29717450bc",
            "_dom_classes": [],
            "description": "",
            "_model_name": "FloatProgressModel",
            "bar_style": "success",
            "max": 170498071,
            "_view_module": "@jupyter-widgets/controls",
            "_model_module_version": "1.5.0",
            "value": 170498071,
            "_view_count": null,
            "_view_module_version": "1.5.0",
            "orientation": "horizontal",
            "min": 0,
            "description_tooltip": null,
            "_model_module": "@jupyter-widgets/controls",
            "layout": "IPY_MODEL_7595ea3ccd274e18975e70089d8ae12b"
          }
        },
        "980dc071ce414640900b42dee8d16364": {
          "model_module": "@jupyter-widgets/controls",
          "model_name": "HTMLModel",
          "state": {
            "_view_name": "HTMLView",
            "style": "IPY_MODEL_3789d6179cd841b9bb49eea4b4611806",
            "_dom_classes": [],
            "description": "",
            "_model_name": "HTMLModel",
            "placeholder": "​",
            "_view_module": "@jupyter-widgets/controls",
            "_model_module_version": "1.5.0",
            "value": " 170499072/? [00:04&lt;00:00, 39899093.56it/s]",
            "_view_count": null,
            "_view_module_version": "1.5.0",
            "description_tooltip": null,
            "_model_module": "@jupyter-widgets/controls",
            "layout": "IPY_MODEL_908ca09626a84d85ab916e9c1a9c1ad3"
          }
        },
        "c193dd5c18644a93930bda29717450bc": {
          "model_module": "@jupyter-widgets/controls",
          "model_name": "ProgressStyleModel",
          "state": {
            "_view_name": "StyleView",
            "_model_name": "ProgressStyleModel",
            "description_width": "initial",
            "_view_module": "@jupyter-widgets/base",
            "_model_module_version": "1.5.0",
            "_view_count": null,
            "_view_module_version": "1.2.0",
            "bar_color": null,
            "_model_module": "@jupyter-widgets/controls"
          }
        },
        "7595ea3ccd274e18975e70089d8ae12b": {
          "model_module": "@jupyter-widgets/base",
          "model_name": "LayoutModel",
          "state": {
            "_view_name": "LayoutView",
            "grid_template_rows": null,
            "right": null,
            "justify_content": null,
            "_view_module": "@jupyter-widgets/base",
            "overflow": null,
            "_model_module_version": "1.2.0",
            "_view_count": null,
            "flex_flow": null,
            "width": null,
            "min_width": null,
            "border": null,
            "align_items": null,
            "bottom": null,
            "_model_module": "@jupyter-widgets/base",
            "top": null,
            "grid_column": null,
            "overflow_y": null,
            "overflow_x": null,
            "grid_auto_flow": null,
            "grid_area": null,
            "grid_template_columns": null,
            "flex": null,
            "_model_name": "LayoutModel",
            "justify_items": null,
            "grid_row": null,
            "max_height": null,
            "align_content": null,
            "visibility": null,
            "align_self": null,
            "height": null,
            "min_height": null,
            "padding": null,
            "grid_auto_rows": null,
            "grid_gap": null,
            "max_width": null,
            "order": null,
            "_view_module_version": "1.2.0",
            "grid_template_areas": null,
            "object_position": null,
            "object_fit": null,
            "grid_auto_columns": null,
            "margin": null,
            "display": null,
            "left": null
          }
        },
        "3789d6179cd841b9bb49eea4b4611806": {
          "model_module": "@jupyter-widgets/controls",
          "model_name": "DescriptionStyleModel",
          "state": {
            "_view_name": "StyleView",
            "_model_name": "DescriptionStyleModel",
            "description_width": "",
            "_view_module": "@jupyter-widgets/base",
            "_model_module_version": "1.5.0",
            "_view_count": null,
            "_view_module_version": "1.2.0",
            "_model_module": "@jupyter-widgets/controls"
          }
        },
        "908ca09626a84d85ab916e9c1a9c1ad3": {
          "model_module": "@jupyter-widgets/base",
          "model_name": "LayoutModel",
          "state": {
            "_view_name": "LayoutView",
            "grid_template_rows": null,
            "right": null,
            "justify_content": null,
            "_view_module": "@jupyter-widgets/base",
            "overflow": null,
            "_model_module_version": "1.2.0",
            "_view_count": null,
            "flex_flow": null,
            "width": null,
            "min_width": null,
            "border": null,
            "align_items": null,
            "bottom": null,
            "_model_module": "@jupyter-widgets/base",
            "top": null,
            "grid_column": null,
            "overflow_y": null,
            "overflow_x": null,
            "grid_auto_flow": null,
            "grid_area": null,
            "grid_template_columns": null,
            "flex": null,
            "_model_name": "LayoutModel",
            "justify_items": null,
            "grid_row": null,
            "max_height": null,
            "align_content": null,
            "visibility": null,
            "align_self": null,
            "height": null,
            "min_height": null,
            "padding": null,
            "grid_auto_rows": null,
            "grid_gap": null,
            "max_width": null,
            "order": null,
            "_view_module_version": "1.2.0",
            "grid_template_areas": null,
            "object_position": null,
            "object_fit": null,
            "grid_auto_columns": null,
            "margin": null,
            "display": null,
            "left": null
          }
        }
      }
    }
  },
  "cells": [
    {
      "cell_type": "markdown",
      "metadata": {
        "id": "view-in-github",
        "colab_type": "text"
      },
      "source": [
        "<a href=\"https://colab.research.google.com/github/ckraju/summer/blob/main/3_Weight_Initialization_ipynb_ML17.ipynb\" target=\"_parent\"><img src=\"https://colab.research.google.com/assets/colab-badge.svg\" alt=\"Open In Colab\"/></a>"
      ]
    },
    {
      "cell_type": "markdown",
      "metadata": {
        "id": "pME8T11-JnCm"
      },
      "source": [
        "## Trying out different weight initializer techniques\n",
        "\n",
        "We begin with building a CNN architecture for image classification task on CIFAR10 dataset. In this part of the tutorial, we will understand how to use  different weight initializer techniques to train a CNN network.\n",
        "\n",
        "To make data loading simple, we would use the torchvision package created as part of PyTorch which has data loaders for standard datasets such as ImageNet, CIFAR10, MNIST.\n",
        "\n",
        "### Note\n",
        "Before starting, please ensure that under Runtime (in the menu bar above), you have changed the Change runtime type to GPU. \n",
        "\n",
        "### CIFAR10 dataset\n",
        "![CIFAR10](https://raw.githubusercontent.com/ckraju/summer/main/data/cnn-basics/cifar10.png)"
      ]
    },
    {
      "cell_type": "code",
      "metadata": {
        "collapsed": true,
        "id": "WZXOfXeZJnCp"
      },
      "source": [
        "#a Tensor library with GPU support\n",
        "import torch\n",
        "\n",
        "#Datasets, Transforms and Models specific to Computer Vision\n",
        "import torchvision\n",
        "import torchvision.transforms as transforms\n",
        "\n",
        "#differentiation library that supports all differentiable Tensor operations in torch\n",
        "from torch.autograd import Variable\n",
        "\n",
        "#a neural networks library integrated with autograd functionality\n",
        "import torch.nn as nn\n",
        "import torch.nn.functional as F\n",
        "\n",
        "#an optimization package with standard optimization methods such as SGD, RMSProp, LBFGS, Adam etc.\n",
        "import torch.optim as optim\n",
        "\n",
        "#Weight Initialization\n",
        "import torch.nn.init as weight_init\n",
        "\n",
        "#scientific computing library for Python\n",
        "import numpy as np\n",
        "\n",
        "#plotting and visualization library\n",
        "import matplotlib.pyplot as plt\n",
        "#Display on the notebook\n",
        "%matplotlib inline \n",
        "plt.ion() #Turn interactive mode on."
      ],
      "execution_count": 1,
      "outputs": []
    },
    {
      "cell_type": "markdown",
      "metadata": {
        "id": "5xdDnxkKJnCr"
      },
      "source": [
        "### Dataloader and Transformers"
      ]
    },
    {
      "cell_type": "code",
      "metadata": {
        "collapsed": true,
        "id": "ykUm1zgWJnCs",
        "colab": {
          "base_uri": "https://localhost:8080/",
          "height": 101,
          "referenced_widgets": [
            "9866521573f04f4087b082a9fe006998",
            "3dc56cdd51544a928c8843322a9a5519",
            "27905df77d494aac91bc38ca9bee5903",
            "980dc071ce414640900b42dee8d16364",
            "c193dd5c18644a93930bda29717450bc",
            "7595ea3ccd274e18975e70089d8ae12b",
            "3789d6179cd841b9bb49eea4b4611806",
            "908ca09626a84d85ab916e9c1a9c1ad3"
          ]
        },
        "outputId": "e6136694-2ba5-4829-8a2d-dbce73a9850c"
      },
      "source": [
        "#Train data\n",
        "#Compose transforms (applies data transformation and augmentation) prior to feeding to training\n",
        "transform = transforms.Compose(\n",
        "    [transforms.ToTensor(),\n",
        "     transforms.Normalize((0.5, 0.5, 0.5), (0.5, 0.5, 0.5))])\n",
        "\n",
        "#inbuilt dataset class for reading CIFAR10 dataset\n",
        "trainset = torchvision.datasets.CIFAR10(root='../../data/lab1', train=True,\n",
        "                                        download=True, transform=transform)\n",
        "\n",
        "#dataloader for Batching, shuffling and loading data in parallel\n",
        "train_loader = torch.utils.data.DataLoader(trainset, batch_size=4,\n",
        "                                          shuffle=True, num_workers=2)\n",
        "\n",
        "#test data\n",
        "testset = torchvision.datasets.CIFAR10(root='../../data/lab1', train=False,\n",
        "                                       download=False, transform=transform)\n",
        "test_loader = torch.utils.data.DataLoader(testset, batch_size=4,\n",
        "                                         shuffle=False, num_workers=2)\n",
        "\n",
        "classes = ('plane', 'car', 'bird', 'cat',\n",
        "           'deer', 'dog', 'frog', 'horse', 'ship', 'truck')\n",
        "\n"
      ],
      "execution_count": 2,
      "outputs": [
        {
          "output_type": "stream",
          "text": [
            "Downloading https://www.cs.toronto.edu/~kriz/cifar-10-python.tar.gz to ../../data/lab1/cifar-10-python.tar.gz\n"
          ],
          "name": "stdout"
        },
        {
          "output_type": "display_data",
          "data": {
            "application/vnd.jupyter.widget-view+json": {
              "model_id": "9866521573f04f4087b082a9fe006998",
              "version_minor": 0,
              "version_major": 2
            },
            "text/plain": [
              "HBox(children=(FloatProgress(value=0.0, max=170498071.0), HTML(value='')))"
            ]
          },
          "metadata": {
            "tags": []
          }
        },
        {
          "output_type": "stream",
          "text": [
            "\n",
            "Extracting ../../data/lab1/cifar-10-python.tar.gz to ../../data/lab1\n"
          ],
          "name": "stdout"
        }
      ]
    },
    {
      "cell_type": "markdown",
      "metadata": {
        "id": "myXDr1poJnCu"
      },
      "source": [
        "\n",
        "### Defining the model\n",
        "\n",
        "To create a network, we should first inherit the base class nn.Module. You just have to define the forward function, and the backward function (where gradients are computed) is automatically defined for you using autograd. You can use any of the Tensor operations in the forward function."
      ]
    },
    {
      "cell_type": "code",
      "metadata": {
        "id": "D4HGdvpaJnCv",
        "colab": {
          "base_uri": "https://localhost:8080/"
        },
        "outputId": "a43274fb-ed9f-437d-fc31-bc8b3627f746"
      },
      "source": [
        "\n",
        "# This scheme can be one of 'uniform', 'normal', 'constant' 'Xavier' and 'custom'\n",
        "\n",
        "weight_initialization_scheme = 'uniform'\n",
        "\n",
        "\n",
        "def weight_init_custom_conv(module):\n",
        "    import math\n",
        "    n = module.kernel_size[0] * module.kernel_size[1] * module.out_channels\n",
        "    module.weight.data.normal_(0, math.sqrt(2. / n))\n",
        "\n",
        "def weight_init_custom_linear(module):\n",
        "    import math\n",
        "#     import pdb\n",
        "#     pdb.set_trace()\n",
        "    n = module.in_features * module.out_features\n",
        "    module.weight.data.normal_(0, math.sqrt(2. / n))\n",
        "\n",
        "    \n",
        "class Model(nn.Module):\n",
        "    \n",
        "    #define the learnable paramters by calling the respective modules (nn.Conv2d, nn.MaxPool2d etc.)\n",
        "    def __init__(self):\n",
        "        super(Model, self).__init__()\n",
        "        \n",
        "        #calling conv2d module for convolution\n",
        "        self.conv1 = nn.Conv2d(in_channels=3, out_channels=6, kernel_size=5,stride=1,padding=0,bias=True)\n",
        "        \n",
        "        #calling MaxPool2d module for max pooling with downsampling of 2\n",
        "        self.pool_1 = nn.MaxPool2d(kernel_size=2, stride=2)\n",
        "        \n",
        "        self.conv2 = nn.Conv2d(6, 16, 5)\n",
        "        self.pool_2 = nn.MaxPool2d(kernel_size=2, stride=2)\n",
        "        \n",
        "        #fully connected layers\n",
        "        self.fc1 = nn.Linear(16 * 5 * 5, 120)\n",
        "        self.fc2 = nn.Linear(120, 84)\n",
        "        self.fc3 = nn.Linear(84, 10)   \n",
        "        \n",
        "        \n",
        "        # Setting the weights for the conv1 layer\n",
        "        for m in self.modules():\n",
        "            if weight_initialization_scheme == 'uniform':\n",
        "#                     print('Initializating with uniform scheme')\n",
        "                    weight_init.uniform(self.conv1.weight)\n",
        "                    weight_init.uniform(self.conv2.weight)\n",
        "                    weight_init.uniform(self.fc1.weight)\n",
        "                    weight_init.uniform(self.fc2.weight)\n",
        "                    weight_init.uniform(self.fc3.weight)\n",
        "            if weight_initialization_scheme == 'normal':\n",
        "#                     print('Initializating with normal scheme')\n",
        "                    weight_init.normal(self.conv1.weight)\n",
        "                    weight_init.normal(self.conv2.weight)\n",
        "                    weight_init.normal(self.fc1.weight)\n",
        "                    weight_init.normal(self.fc2.weight)\n",
        "                    weight_init.normal(self.fc3.weight)\n",
        "            if weight_initialization_scheme == 'constant':\n",
        "#                     print('Initializating with constant scheme')\n",
        "                    weight_init.constant(self.conv1.weight, 0.1)\n",
        "                    weight_init.constant(self.conv2.weight, 0.1)\n",
        "                    weight_init.constant(self.fc1.weight, 0.1)\n",
        "                    weight_init.constant(self.fc2.weight, 0.1)\n",
        "                    weight_init.constant(self.fc3.weight, 0.1)\n",
        "            if weight_initialization_scheme == 'Xavier':\n",
        "#                     print('Initializating with Xavier scheme')\n",
        "                    weight_init.xavier_normal(self.conv1.weight)\n",
        "                    weight_init.xavier_normal(self.conv2.weight)\n",
        "                    weight_init.xavier_normal(self.fc1.weight)\n",
        "                    weight_init.xavier_normal(self.fc2.weight)\n",
        "                    weight_init.xavier_normal(self.fc3.weight)\n",
        "            if weight_initialization_scheme == 'custom':\n",
        "#                     print('Initializating with custom scheme')\n",
        "                    weight_init_custom_conv(self.conv1)\n",
        "                    weight_init_custom_conv(self.conv2)\n",
        "                    weight_init_custom_linear(self.fc1)\n",
        "                    weight_init_custom_linear(self.fc2)\n",
        "                    weight_init_custom_linear(self.fc3)\n",
        "                    \n",
        "\n",
        "\n",
        "    \n",
        "    #defining the structure of the network\n",
        "    def forward(self, x):\n",
        "        \n",
        "        #Applying relu activation after each conv layer\n",
        "        x = self.pool_1(F.relu(self.conv1(x)))\n",
        "        x = self.pool_2(F.relu(self.conv2(x)))\n",
        "        \n",
        "        #reshaping to 1d for giving input to fully connected units\n",
        "        x = x.view(-1, 16 * 5 * 5)\n",
        "        x = F.relu(self.fc1(x))\n",
        "        x = F.relu(self.fc2(x))\n",
        "        x = self.fc3(x)\n",
        "        return x\n",
        "\n",
        "model = Model()\n",
        "model = model.cuda()\n",
        "\n",
        "#Printing the network architecture\n",
        "print(model)"
      ],
      "execution_count": 3,
      "outputs": [
        {
          "output_type": "stream",
          "text": [
            "/usr/local/lib/python3.7/dist-packages/ipykernel_launcher.py:45: UserWarning: nn.init.uniform is now deprecated in favor of nn.init.uniform_.\n",
            "/usr/local/lib/python3.7/dist-packages/ipykernel_launcher.py:46: UserWarning: nn.init.uniform is now deprecated in favor of nn.init.uniform_.\n",
            "/usr/local/lib/python3.7/dist-packages/ipykernel_launcher.py:47: UserWarning: nn.init.uniform is now deprecated in favor of nn.init.uniform_.\n",
            "/usr/local/lib/python3.7/dist-packages/ipykernel_launcher.py:48: UserWarning: nn.init.uniform is now deprecated in favor of nn.init.uniform_.\n",
            "/usr/local/lib/python3.7/dist-packages/ipykernel_launcher.py:49: UserWarning: nn.init.uniform is now deprecated in favor of nn.init.uniform_.\n"
          ],
          "name": "stderr"
        },
        {
          "output_type": "stream",
          "text": [
            "Model(\n",
            "  (conv1): Conv2d(3, 6, kernel_size=(5, 5), stride=(1, 1))\n",
            "  (pool_1): MaxPool2d(kernel_size=2, stride=2, padding=0, dilation=1, ceil_mode=False)\n",
            "  (conv2): Conv2d(6, 16, kernel_size=(5, 5), stride=(1, 1))\n",
            "  (pool_2): MaxPool2d(kernel_size=2, stride=2, padding=0, dilation=1, ceil_mode=False)\n",
            "  (fc1): Linear(in_features=400, out_features=120, bias=True)\n",
            "  (fc2): Linear(in_features=120, out_features=84, bias=True)\n",
            "  (fc3): Linear(in_features=84, out_features=10, bias=True)\n",
            ")\n"
          ],
          "name": "stdout"
        }
      ]
    },
    {
      "cell_type": "markdown",
      "metadata": {
        "id": "0MqUZxTVJnCx"
      },
      "source": [
        "### Define the optimizer"
      ]
    },
    {
      "cell_type": "code",
      "metadata": {
        "collapsed": true,
        "id": "7c61-nnwJnCy"
      },
      "source": [
        "criterion = nn.CrossEntropyLoss()\n",
        "optimizer = optim.SGD(model.parameters(), lr=0.01, momentum=0.9)"
      ],
      "execution_count": 4,
      "outputs": []
    },
    {
      "cell_type": "markdown",
      "metadata": {
        "id": "3fphhmhrJnCz"
      },
      "source": [
        "### Train the network"
      ]
    },
    {
      "cell_type": "code",
      "metadata": {
        "id": "r0776ch4JnC1",
        "colab": {
          "base_uri": "https://localhost:8080/"
        },
        "outputId": "4214d66d-ebd2-47b7-ba0a-b059180f8f5b"
      },
      "source": [
        "for epoch in range(5):  # loop over the dataset multiple times\n",
        "\n",
        "    total_loss = 0.0\n",
        "    correct = 0\n",
        "    for i, data in enumerate(train_loader):\n",
        "        # get the inputs\n",
        "        inputs, labels = data\n",
        "\n",
        "        # wrap them in Variable\n",
        "        inputs, labels = Variable(inputs.cuda()), Variable(labels.cuda())\n",
        "\n",
        "        # zero the parameter gradients\n",
        "        optimizer.zero_grad()\n",
        "\n",
        "        # forward + backward + optimize\n",
        "        outputs = model(inputs)\n",
        "        loss = criterion(outputs, labels)\n",
        "        loss.backward()\n",
        "        optimizer.step()\n",
        "\n",
        "        # print statistics\n",
        "        total_loss += loss.data\n",
        "        # Calculate no of correct classifications\n",
        "        _, predicted_class = outputs.max(1)\n",
        "        correct += predicted_class.data.eq(labels.data).sum()     \n",
        "        \n",
        "    print(\"Epoch: {0} | loss: {1} | accuracy: {2}\".format(epoch, total_loss/len(train_loader)\n",
        "                                                          , correct/float(len(train_loader.dataset))))"
      ],
      "execution_count": 6,
      "outputs": [
        {
          "output_type": "stream",
          "text": [
            "Epoch: 0 | loss: 3867212544.0 | accuracy: 0.09916000068187714\n",
            "Epoch: 1 | loss: 2.308067560195923 | accuracy: 0.09971999377012253\n",
            "Epoch: 2 | loss: 2.3081655502319336 | accuracy: 0.10095999389886856\n",
            "Epoch: 3 | loss: 2.3081047534942627 | accuracy: 0.10142000019550323\n",
            "Epoch: 4 | loss: 2.308335542678833 | accuracy: 0.10115999728441238\n"
          ],
          "name": "stdout"
        }
      ]
    }
  ]
}